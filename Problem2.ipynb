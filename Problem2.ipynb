{
 "cells": [
  {
   "cell_type": "code",
   "execution_count": 1,
   "metadata": {},
   "outputs": [],
   "source": [
    "# 1 for Rock, 2 for Paper, and 3 for Scissors) \n",
    "# plus the score for the outcome of the round (0 if you lost, 3 if the round was a draw, and 6 if you won)"
   ]
  },
  {
   "cell_type": "code",
   "execution_count": 2,
   "metadata": {},
   "outputs": [],
   "source": [
    "with open('problem2_input.txt') as f:\n",
    "    lines = f.readlines()"
   ]
  },
  {
   "cell_type": "code",
   "execution_count": 3,
   "metadata": {},
   "outputs": [],
   "source": [
    "shapes = {\n",
    "  \"X\": 1, # rock\n",
    "  \"Y\": 2, # ppr\n",
    "  \"Z\": 3 #scissors\n",
    "}"
   ]
  },
  {
   "cell_type": "code",
   "execution_count": 4,
   "metadata": {},
   "outputs": [],
   "source": [
    "outcomes = {\n",
    "  \"loss\": 0,\n",
    "  \"draw\": 3,\n",
    "  \"win\":  6 \n",
    "}"
   ]
  },
  {
   "cell_type": "code",
   "execution_count": 5,
   "metadata": {},
   "outputs": [],
   "source": [
    "ranks = {\n",
    "  \"A X\": \"draw\",\n",
    "  \"A Y\": \"win\",\n",
    "  \"A Z\": \"loss\",\n",
    "  \"B X\": \"loss\",\n",
    "  \"B Y\": \"draw\",\n",
    "  \"B Z\": \"win\",\n",
    "  \"C X\": \"win\",\n",
    "  \"C Y\": \"loss\",\n",
    "  \"C Z\": \"draw\"\n",
    "}"
   ]
  },
  {
   "cell_type": "code",
   "execution_count": 9,
   "metadata": {},
   "outputs": [
    {
     "name": "stdout",
     "output_type": "stream",
     "text": [
      "12679\n"
     ]
    }
   ],
   "source": [
    "total_score = 0\n",
    "for i in lines:\n",
    "    total_score += outcomes[ranks[i.strip()]]\n",
    "    total_score += shapes[i.strip()[2]]\n",
    "print(total_score)"
   ]
  },
  {
   "cell_type": "code",
   "execution_count": 10,
   "metadata": {},
   "outputs": [],
   "source": [
    "##Part 2"
   ]
  },
  {
   "cell_type": "code",
   "execution_count": 19,
   "metadata": {},
   "outputs": [],
   "source": [
    "outcomes = {\n",
    "  \"X\": \"loss\",\n",
    "  \"Y\": \"draw\",\n",
    "  \"Z\": \"win\"\n",
    "    \n",
    "}"
   ]
  },
  {
   "cell_type": "code",
   "execution_count": 20,
   "metadata": {},
   "outputs": [],
   "source": [
    "scores = {\n",
    "  \"loss\": 0,\n",
    "  \"draw\": 3,\n",
    "  \"win\":  6 \n",
    "}"
   ]
  },
  {
   "cell_type": "code",
   "execution_count": 21,
   "metadata": {},
   "outputs": [],
   "source": [
    "shapes_to_outcome = {\n",
    "  \"A X\": \"scissors\",\n",
    "  \"A Y\": \"rock\",\n",
    "  \"A Z\": \"paper\",\n",
    "  \"B X\": \"rock\",\n",
    "  \"B Y\": \"paper\",\n",
    "  \"B Z\": \"scissors\",\n",
    "  \"C X\": \"paper\",\n",
    "  \"C Y\": \"scissors\",\n",
    "  \"C Z\": \"rock\"\n",
    "}"
   ]
  },
  {
   "cell_type": "code",
   "execution_count": 22,
   "metadata": {},
   "outputs": [],
   "source": [
    "shapes = {\n",
    "    \"rock\" : 1,\n",
    "    \"paper\" : 2,\n",
    "    \"scissors\": 3\n",
    "}"
   ]
  },
  {
   "cell_type": "code",
   "execution_count": 24,
   "metadata": {},
   "outputs": [
    {
     "name": "stdout",
     "output_type": "stream",
     "text": [
      "14470\n"
     ]
    }
   ],
   "source": [
    "total_score=0\n",
    "for i in lines:\n",
    "    total_score += scores[outcomes[i.strip()[2]]]\n",
    "    total_score += shapes[shapes_to_outcome[i.strip()]]\n",
    "print(total_score)"
   ]
  },
  {
   "cell_type": "code",
   "execution_count": null,
   "metadata": {},
   "outputs": [],
   "source": []
  }
 ],
 "metadata": {
  "kernelspec": {
   "display_name": "Python 3",
   "language": "python",
   "name": "python3"
  },
  "language_info": {
   "codemirror_mode": {
    "name": "ipython",
    "version": 3
   },
   "file_extension": ".py",
   "mimetype": "text/x-python",
   "name": "python",
   "nbconvert_exporter": "python",
   "pygments_lexer": "ipython3",
   "version": "3.7.4"
  }
 },
 "nbformat": 4,
 "nbformat_minor": 2
}
