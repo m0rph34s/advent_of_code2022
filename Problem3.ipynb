{
 "cells": [
  {
   "cell_type": "code",
   "execution_count": 42,
   "metadata": {},
   "outputs": [],
   "source": [
    "with open('problem3_input.txt') as f:\n",
    "    lines = f.readlines()"
   ]
  },
  {
   "cell_type": "code",
   "execution_count": 43,
   "metadata": {},
   "outputs": [],
   "source": [
    "priority_dict = {}\n",
    "for i in range(1,27):\n",
    "    priority_dict[chr(i+96)] = i\n",
    "for i in range(27,53):\n",
    "    priority_dict[chr(i+38)] = i\n",
    "\n",
    "\n",
    "comp1=''\n",
    "comp2=''\n",
    "sum_pri = 0\n",
    "for (i, line) in enumerate(lines):\n",
    "    compsize = len(line.strip())//2\n",
    "    comp1 = line[0:compsize]\n",
    "    comp2 = line[compsize:2*compsize]\n",
    "    bad_item = ''.join(set(comp1).intersection(comp2))\n",
    "    #print(i, bad_item)\n",
    "    sum_pri+=priority_dict[bad_item]\n",
    "    \n",
    "    \n",
    "    "
   ]
  },
  {
   "cell_type": "code",
   "execution_count": 44,
   "metadata": {},
   "outputs": [
    {
     "data": {
      "text/plain": [
       "7980"
      ]
     },
     "execution_count": 44,
     "metadata": {},
     "output_type": "execute_result"
    }
   ],
   "source": [
    "sum_pri"
   ]
  },
  {
   "cell_type": "markdown",
   "metadata": {},
   "source": [
    "# Part2"
   ]
  },
  {
   "cell_type": "code",
   "execution_count": 72,
   "metadata": {},
   "outputs": [],
   "source": [
    "# priority_dict = {}\n",
    "# for i in range(1,27):\n",
    "#     priority_dict[chr(i+96)] = i\n",
    "# for i in range(27,53):\n",
    "#     priority_dict[chr(i+38)] = i\n",
    "\n",
    "\n",
    "# comp1=''\n",
    "# comp2=''\n",
    "\n",
    "sum_pri = 0\n",
    "r1=''\n",
    "r2=''\n",
    "r3=''\n",
    "\n",
    "for (i, line) in enumerate(lines):\n",
    "    if ((i%3) == 0):\n",
    "        r1 = set(line.strip())\n",
    "    elif ((i%3) == 1):\n",
    "        r2 = set(line.strip())\n",
    "    elif ((i%3) ==2):\n",
    "        r3 = set(line.strip())\n",
    "        badge = r1 & r2 & r3\n",
    "        sum_pri+=priority_dict[badge.pop()]\n",
    "    else:\n",
    "        print(\"d'oh\\n\")\n",
    "    \n",
    "    "
   ]
  },
  {
   "cell_type": "code",
   "execution_count": 71,
   "metadata": {},
   "outputs": [
    {
     "data": {
      "text/plain": [
       "2881"
      ]
     },
     "execution_count": 71,
     "metadata": {},
     "output_type": "execute_result"
    }
   ],
   "source": [
    "sum_pri"
   ]
  }
 ],
 "metadata": {
  "kernelspec": {
   "display_name": "Python 3",
   "language": "python",
   "name": "python3"
  },
  "language_info": {
   "codemirror_mode": {
    "name": "ipython",
    "version": 3
   },
   "file_extension": ".py",
   "mimetype": "text/x-python",
   "name": "python",
   "nbconvert_exporter": "python",
   "pygments_lexer": "ipython3",
   "version": "3.7.4"
  }
 },
 "nbformat": 4,
 "nbformat_minor": 2
}
