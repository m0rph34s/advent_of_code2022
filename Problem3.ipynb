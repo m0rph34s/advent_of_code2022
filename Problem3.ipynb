{
 "cells": [
  {
   "cell_type": "code",
   "execution_count": 42,
   "metadata": {},
   "outputs": [],
   "source": [
    "with open('problem3_input.txt') as f:\n",
    "    lines = f.readlines()"
   ]
  },
  {
   "cell_type": "code",
   "execution_count": 43,
   "metadata": {},
   "outputs": [],
   "source": [
    "priority_dict = {}\n",
    "for i in range(1,27):\n",
    "    priority_dict[chr(i+96)] = i\n",
    "for i in range(27,53):\n",
    "    priority_dict[chr(i+38)] = i\n",
    "\n",
    "\n",
    "comp1=''\n",
    "comp2=''\n",
    "sum_pri = 0\n",
    "for (i, line) in enumerate(lines):\n",
    "    compsize = len(line.strip())//2\n",
    "    comp1 = line[0:compsize]\n",
    "    comp2 = line[compsize:2*compsize]\n",
    "    bad_item = ''.join(set(comp1).intersection(comp2))\n",
    "    #print(i, bad_item)\n",
    "    sum_pri+=priority_dict[bad_item]\n",
    "    \n",
    "    \n",
    "    "
   ]
  },
  {
   "cell_type": "code",
   "execution_count": 44,
   "metadata": {},
   "outputs": [
    {
     "data": {
      "text/plain": [
       "7980"
      ]
     },
     "execution_count": 44,
     "metadata": {},
     "output_type": "execute_result"
    }
   ],
   "source": [
    "sum_pri"
   ]
  },
  {
   "cell_type": "markdown",
   "metadata": {},
   "source": [
    "# Part2"
   ]
  },
  {
   "cell_type": "code",
   "execution_count": 72,
   "metadata": {},
   "outputs": [],
   "source": [
    "# priority_dict = {}\n",
    "# for i in range(1,27):\n",
    "#     priority_dict[chr(i+96)] = i\n",
    "# for i in range(27,53):\n",
    "#     priority_dict[chr(i+38)] = i\n",
    "\n",
    "\n",
    "# comp1=''\n",
    "# comp2=''\n",
    "\n",
    "sum_pri = 0\n",
    "r1=''\n",
    "r2=''\n",
    "r3=''\n",
    "\n",
    "for (i, line) in enumerate(lines):\n",
    "    if ((i%3) == 0):\n",
    "        r1 = set(line.strip())\n",
    "    elif ((i%3) == 1):\n",
    "        r2 = set(line.strip())\n",
    "    elif ((i%3) ==2):\n",
    "        r3 = set(line.strip())\n",
    "        badge = r1 & r2 & r3\n",
    "        sum_pri+=priority_dict[badge.pop()]\n",
    "    else:\n",
    "        print(\"d'oh\\n\")\n",
    "    \n",
    "    "
   ]
  },
  {
   "cell_type": "code",
   "execution_count": null,
   "metadata": {},
   "outputs": [],
   "source": []
  },
  {
   "cell_type": "code",
   "execution_count": 71,
   "metadata": {},
   "outputs": [
    {
     "data": {
      "text/plain": [
       "2881"
      ]
     },
     "execution_count": 71,
     "metadata": {},
     "output_type": "execute_result"
    }
   ],
   "source": [
    "sum_pri"
   ]
  },
  {
   "cell_type": "markdown",
   "metadata": {},
   "source": [
    "## Sensei Dinoboo"
   ]
  },
  {
   "cell_type": "code",
   "execution_count": 81,
   "metadata": {},
   "outputs": [
    {
     "name": "stdout",
     "output_type": "stream",
     "text": [
      "2881\n"
     ]
    }
   ],
   "source": [
    "def score(c):\n",
    "    s = 1 + ord(c)\n",
    "    s -= ord('a') if c.islower() else (ord('A') - 26)\n",
    "    return s\n",
    "\n",
    "def find_badge(lines):\n",
    "    s1, s2, s3 = map(set, lines)\n",
    "    badge = (s1 & s2 & s3).pop()\n",
    "    return badge\n",
    "\n",
    "with open('problem3_input.txt') as f:\n",
    "    total = 0\n",
    "    while True:\n",
    "        lines = [f.readline().strip() for _ in range(3)]\n",
    "        if not lines[0]:\n",
    "            break\n",
    "        total += score(find_badge(lines))\n",
    "\n",
    "print(f\"{total}\")"
   ]
  },
  {
   "cell_type": "code",
   "execution_count": 74,
   "metadata": {},
   "outputs": [
    {
     "ename": "NameError",
     "evalue": "name 'which' is not defined",
     "output_type": "error",
     "traceback": [
      "\u001b[1;31m---------------------------------------------------------------------------\u001b[0m",
      "\u001b[1;31mNameError\u001b[0m                                 Traceback (most recent call last)",
      "\u001b[1;32m<ipython-input-74-b2cdc4c91fc9>\u001b[0m in \u001b[0;36m<module>\u001b[1;34m\u001b[0m\n\u001b[1;32m----> 1\u001b[1;33m \u001b[0mwhich\u001b[0m\u001b[1;33m\u001b[0m\u001b[1;33m\u001b[0m\u001b[0m\n\u001b[0m",
      "\u001b[1;31mNameError\u001b[0m: name 'which' is not defined"
     ]
    }
   ],
   "source": [
    "which"
   ]
  },
  {
   "cell_type": "code",
   "execution_count": 76,
   "metadata": {},
   "outputs": [
    {
     "ename": "NameError",
     "evalue": "name '__version__' is not defined",
     "output_type": "error",
     "traceback": [
      "\u001b[1;31m---------------------------------------------------------------------------\u001b[0m",
      "\u001b[1;31mNameError\u001b[0m                                 Traceback (most recent call last)",
      "\u001b[1;32m<ipython-input-76-566b4646f4e5>\u001b[0m in \u001b[0;36m<module>\u001b[1;34m\u001b[0m\n\u001b[1;32m----> 1\u001b[1;33m \u001b[0m__version__\u001b[0m\u001b[1;33m\u001b[0m\u001b[1;33m\u001b[0m\u001b[0m\n\u001b[0m",
      "\u001b[1;31mNameError\u001b[0m: name '__version__' is not defined"
     ]
    }
   ],
   "source": [
    "__version__"
   ]
  },
  {
   "cell_type": "code",
   "execution_count": 77,
   "metadata": {},
   "outputs": [],
   "source": [
    "import sys"
   ]
  },
  {
   "cell_type": "code",
   "execution_count": 79,
   "metadata": {},
   "outputs": [
    {
     "data": {
      "text/plain": [
       "'3.7.4 (default, Aug  9 2019, 18:34:13) [MSC v.1915 64 bit (AMD64)]'"
      ]
     },
     "execution_count": 79,
     "metadata": {},
     "output_type": "execute_result"
    }
   ],
   "source": [
    "sys.version"
   ]
  },
  {
   "cell_type": "code",
   "execution_count": null,
   "metadata": {},
   "outputs": [],
   "source": []
  }
 ],
 "metadata": {
  "kernelspec": {
   "display_name": "Python 3",
   "language": "python",
   "name": "python3"
  },
  "language_info": {
   "codemirror_mode": {
    "name": "ipython",
    "version": 3
   },
   "file_extension": ".py",
   "mimetype": "text/x-python",
   "name": "python",
   "nbconvert_exporter": "python",
   "pygments_lexer": "ipython3",
   "version": "3.7.4"
  }
 },
 "nbformat": 4,
 "nbformat_minor": 2
}
