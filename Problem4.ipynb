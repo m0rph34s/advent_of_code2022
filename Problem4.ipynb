{
 "cells": [
  {
   "cell_type": "code",
   "execution_count": 1,
   "metadata": {},
   "outputs": [],
   "source": [
    "with open('problem4_input.txt') as f:\n",
    "    lines = f.readlines()"
   ]
  },
  {
   "cell_type": "code",
   "execution_count": 2,
   "metadata": {},
   "outputs": [],
   "source": [
    "r1 = range(20,46)"
   ]
  },
  {
   "cell_type": "code",
   "execution_count": 3,
   "metadata": {},
   "outputs": [],
   "source": [
    "r2 = range(21,45)"
   ]
  },
  {
   "cell_type": "code",
   "execution_count": 37,
   "metadata": {},
   "outputs": [],
   "source": [
    "def contains(r1,r2):\n",
    "    return (((r2.start in r1) and (r2[-1] in r1)) or ((r1.start in r2) and (r1[-1] in r2)))"
   ]
  },
  {
   "cell_type": "code",
   "execution_count": 39,
   "metadata": {},
   "outputs": [],
   "source": [
    "def overlaps(r1,r2):\n",
    "    return not ((r1[-1] <r2.start) or (r2[-1] <r1.start))"
   ]
  },
  {
   "cell_type": "code",
   "execution_count": 40,
   "metadata": {},
   "outputs": [
    {
     "name": "stdout",
     "output_type": "stream",
     "text": [
      "441\n"
     ]
    }
   ],
   "source": [
    "bad_assignments = 0\n",
    "for (i, line) in enumerate(lines):\n",
    "    (r1_int,r2_int) = (line.strip()).split(',')\n",
    "    (r1_start, r1_end) = r1_int.split('-')\n",
    "    (r2_start, r2_end) = r2_int.split('-')\n",
    "    r1 = range(int(r1_start),int(r1_end)+1)\n",
    "    r2 = range(int(r2_start),int(r2_end)+1)\n",
    "    bad_assignments += contains(r1,r2) \n",
    "print(bad_assignments)"
   ]
  },
  {
   "cell_type": "code",
   "execution_count": 41,
   "metadata": {},
   "outputs": [
    {
     "data": {
      "text/plain": [
       "True"
      ]
     },
     "execution_count": 41,
     "metadata": {},
     "output_type": "execute_result"
    }
   ],
   "source": [
    "\n",
    "(r1_int,r2_int) = (lines[5].strip()).split(',')\n",
    "(r1_start, r1_end) = r1_int.split('-')\n",
    "(r2_start, r2_end) = r2_int.split('-')\n",
    "#type(r1_start)\n",
    "r1 = range(int(r1_start),int(r1_end)+1)\n",
    "r2 = range(int(r2_start),int(r2_end)+1)\n",
    "#contains(r1,r2)\n",
    "overlaps(r1,r2)"
   ]
  },
  {
   "cell_type": "code",
   "execution_count": 32,
   "metadata": {},
   "outputs": [
    {
     "data": {
      "text/plain": [
       "'4-93,25-97\\n'"
      ]
     },
     "execution_count": 32,
     "metadata": {},
     "output_type": "execute_result"
    }
   ],
   "source": [
    "lines[7]"
   ]
  },
  {
   "cell_type": "code",
   "execution_count": 35,
   "metadata": {},
   "outputs": [
    {
     "name": "stdout",
     "output_type": "stream",
     "text": [
      "861\n"
     ]
    }
   ],
   "source": [
    "bad_assignments = 0\n",
    "for (i, line) in enumerate(lines):\n",
    "    (r1_int,r2_int) = (line.strip()).split(',')\n",
    "    (r1_start, r1_end) = r1_int.split('-')\n",
    "    (r2_start, r2_end) = r2_int.split('-')\n",
    "    r1 = range(int(r1_start),int(r1_end)+1)\n",
    "    r2 = range(int(r2_start),int(r2_end)+1)\n",
    "    bad_assignments += overlaps(r1,r2) \n",
    "print(bad_assignments)"
   ]
  },
  {
   "cell_type": "code",
   "execution_count": null,
   "metadata": {},
   "outputs": [],
   "source": []
  }
 ],
 "metadata": {
  "kernelspec": {
   "display_name": "Python 3",
   "language": "python",
   "name": "python3"
  },
  "language_info": {
   "codemirror_mode": {
    "name": "ipython",
    "version": 3
   },
   "file_extension": ".py",
   "mimetype": "text/x-python",
   "name": "python",
   "nbconvert_exporter": "python",
   "pygments_lexer": "ipython3",
   "version": "3.7.4"
  }
 },
 "nbformat": 4,
 "nbformat_minor": 2
}
